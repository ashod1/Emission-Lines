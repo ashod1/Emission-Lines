{
 "cells": [
  {
   "cell_type": "code",
   "execution_count": 1,
   "id": "9ad11a1b-7ab0-4c72-becd-a7e595301bba",
   "metadata": {},
   "outputs": [],
   "source": [
    "from astropy.io import fits\n",
    "from astropy.table import Table, join\n",
    "import numpy as np\n",
    "import pylab as plt\n",
    "import random\n",
    "from scipy import stats\n",
    "from sklearn.neighbors import KDTree\n",
    "import time\n",
    "from sklearn.metrics import mean_squared_error\n",
    "from astropy.cosmology import FlatLambdaCDM\n",
    "from os import listdir\n",
    "import desispec\n",
    "import desispec.io\n",
    "import speclite.filters\n",
    "import scipy\n",
    "from desitarget.targetmask import desi_mask, bgs_mask, mws_mask\n",
    "from desitarget.cmx.cmx_targetmask import cmx_mask"
   ]
  },
  {
   "cell_type": "code",
   "execution_count": 2,
   "id": "fc8f06f7-31a9-4783-af4e-08c833dd670b",
   "metadata": {},
   "outputs": [
    {
     "name": "stderr",
     "output_type": "stream",
     "text": [
      "WARNING: MergeConflictWarning: Cannot merge meta key 'EXTNAME' types <class 'str'> and <class 'str'>, choosing EXTNAME='FASTSPEC' [astropy.utils.metadata]\n",
      "WARNING: MergeConflictWarning: Cannot merge meta key 'EXTNAME' types <class 'str'> and <class 'str'>, choosing EXTNAME='FASTPHOT' [astropy.utils.metadata]\n",
      "/tmp/ipykernel_34025/488371012.py:22: RuntimeWarning: divide by zero encountered in true_divide\n",
      "  data.add_column(1/(data[\"OII_3726_EW_IVAR\"]+data[\"OII_3729_EW_IVAR\"]),name='OII_DOUBLET_EW_IVAR')\n"
     ]
    }
   ],
   "source": [
    "## DATA ##\n",
    "## I'm combining fastphot,fastspect, and ztile to make sure I use the same data everywhere ##\n",
    "\n",
    "zall_path=\"/project/projectdirs/desi/spectro/redux/everest/zcatalog/ztile-main-bright-cumulative.fits\"\n",
    "data1=Table.read(zall_path,hdu=1)\n",
    "needed1=[\"TARGETID\",\"BGS_TARGET\",\"SPECTYPE\",\"DELTACHI2\",\"Z\",\"ZWARN\",\"FIBER\",\"PETAL_LOC\",\"TILEID\"]\n",
    "\n",
    "fastspec_path = \"/project/projectdirs/desi/spectro/fastspecfit/everest/catalogs/fastspec-everest-main-bright.fits\"\n",
    "data2=Table.read(fastspec_path,hdu=1)\n",
    "needed2=[\"TARGETID\",\"OII_3726_EW\",\"OII_3729_EW\",\"HGAMMA_EW\",\"HBETA_EW\",\"OIII_4959_EW\",\"OIII_5007_EW\",\"NII_6548_EW\",\"HALPHA_EW\",\"NII_6584_EW\",\"SII_6716_EW\",\"SII_6731_EW\",\\\n",
    "        \"OII_3726_EW_IVAR\",\"OII_3729_EW_IVAR\",\"HGAMMA_EW_IVAR\",\"HBETA_EW_IVAR\",\"OIII_4959_EW_IVAR\",\"OIII_5007_EW_IVAR\",\"NII_6548_EW_IVAR\",\"HALPHA_EW_IVAR\",\"NII_6584_EW_IVAR\",\"SII_6716_EW_IVAR\",\"SII_6731_EW_IVAR\"]\n",
    "\n",
    "file_path = \"/project/projectdirs/desi/spectro/fastspecfit/everest/catalogs/fastphot-everest-main-bright.fits\"\n",
    "data3=Table.read(file_path,hdu=1)\n",
    "needed3=[\"TARGETID\",\"ABSMAG_SDSS_U\",\"ABSMAG_SDSS_G\",\"ABSMAG_SDSS_R\",\"ABSMAG_SDSS_I\",\"ABSMAG_SDSS_Z\"]\n",
    "\n",
    "data4=join(data1[needed1],data2[needed2],keys=\"TARGETID\")\n",
    "data=join(data4,data3[needed3],keys=\"TARGETID\")\n",
    "\n",
    "## Adding the sum of OII doublets to use them as a single line\n",
    "data.add_column(data[\"OII_3726_EW\"]+data[\"OII_3729_EW\"],name='OII_DOUBLET_EW')\n",
    "data.add_column(1/(data[\"OII_3726_EW_IVAR\"]+data[\"OII_3729_EW_IVAR\"]),name='OII_DOUBLET_EW_IVAR')"
   ]
  },
  {
   "cell_type": "code",
   "execution_count": 3,
   "id": "4c6f20c2-cacc-48f9-936c-69f89af48252",
   "metadata": {},
   "outputs": [],
   "source": [
    "#data1.columns"
   ]
  },
  {
   "cell_type": "code",
   "execution_count": 4,
   "id": "a6e09d15-1a73-45a7-a685-c2b182485a38",
   "metadata": {},
   "outputs": [
    {
     "name": "stderr",
     "output_type": "stream",
     "text": [
      "/tmp/ipykernel_34025/1172066721.py:8: RuntimeWarning: invalid value encountered in multiply\n",
      "  snr_all[:,0]=data[lines[0]]*np.sqrt(data[lines[0]+\"_IVAR\"])\n"
     ]
    },
    {
     "name": "stdout",
     "output_type": "stream",
     "text": [
      "450905\n"
     ]
    }
   ],
   "source": [
    "lines=[\"OII_DOUBLET_EW\",\"HGAMMA_EW\",\"HBETA_EW\",\"OIII_4959_EW\",\"OIII_5007_EW\",\"NII_6548_EW\",\"HALPHA_EW\",\"NII_6584_EW\",\"SII_6716_EW\",\"SII_6731_EW\"]\n",
    "\n",
    "N=len(data['TARGETID'])\n",
    "\n",
    "snr_cut=1\n",
    "# calculating snr for all lines and setting the snr cut as select_snr\n",
    "snr_all=np.zeros([N,len(lines)])\n",
    "snr_all[:,0]=data[lines[0]]*np.sqrt(data[lines[0]+\"_IVAR\"])\n",
    "\n",
    "cut_Halpha=True\n",
    "cut_all=False\n",
    "for i in range(1,len(lines)):\n",
    "    snr_all[:,i]=data[lines[i]]*np.sqrt(data[lines[i]+\"_IVAR\"])\n",
    "    if cut_all:\n",
    "        select_snr=select_snr*(snr_all[:,i]>snr_cut)\n",
    "if cut_Halpha:\n",
    "    select_snr=snr_all[:,6]>snr_cut\n",
    "    \n",
    "# calculating minimum redshift to have de-redshifted wavelengths be in the interval 3400,7000 A\n",
    "w1=3400\n",
    "w_min=3600\n",
    "z_min=w_min/w1-1\n",
    "\n",
    "# initial target selection\n",
    "select=((data[\"BGS_TARGET\"] & bgs_mask.mask(\"BGS_BRIGHT\"))>0)*(data[\"SPECTYPE\"]==\"GALAXY\")*(data[\"DELTACHI2\"]>=25)\\\n",
    "        *(data[\"Z\"]>z_min)*(data[\"Z\"]<0.3)*(data[\"ZWARN\"]==0)*select_snr\n",
    "\n",
    "\n",
    "print(len(np.where(select==True)[0]))"
   ]
  },
  {
   "cell_type": "code",
   "execution_count": 5,
   "id": "d22f1e9b-6e7a-45d4-963e-5ce201de64b6",
   "metadata": {},
   "outputs": [],
   "source": [
    "## getting first n points from target selection and storing them.\n",
    "\n",
    "n=30*10**3\n",
    "\n",
    "target_pos=np.where(select==True)[0]\n",
    "target_ids=data[\"TARGETID\"][select][:n]\n",
    "\n",
    "fiber_ids=data[\"FIBER\"][select][:n]\n",
    "petal_locs=data[\"PETAL_LOC\"][select][:n]\n",
    "tile_ids=data[\"TILEID\"][select][:n]\n",
    "zs=data[\"Z\"][select][:n]\n",
    "\n",
    "target_lines=np.array(data[lines][select][:n]) \n",
    "\n",
    "run=2\n",
    "\n",
    "# np.savez_compressed(\"/global/homes/a/ashodkh/results/target_lines_\"+str(run)+\".txt\",target_lines)\n",
    "# np.savez_compressed(\"/global/homes/a/ashodkh/results/zs_\"+str(run)+\".txt\",zs)\n",
    "# np.savez_compressed(\"/global/homes/a/ashodkh/results/target_ids_bin_\"+str(run)+\".txt\",target_ids)"
   ]
  },
  {
   "cell_type": "code",
   "execution_count": 6,
   "id": "6cbce824-2736-47af-bb1a-10de99a845fd",
   "metadata": {},
   "outputs": [
    {
     "name": "stderr",
     "output_type": "stream",
     "text": [
      "/tmp/ipykernel_34025/2791144835.py:47: RuntimeWarning: invalid value encountered in true_divide\n",
      "  spectrum[second+first:first+len(wave_r)]=(flux_r[i2[second+first:first+len(wave_r)]]*inv_var_r[i2[second+first:first+len(wave_r)]]+flux_z[i3[second+first:first+len(wave_r)]]*inv_var_z[i3[second+first:first+len(wave_r)]])\\\n",
      "/tmp/ipykernel_34025/2791144835.py:44: RuntimeWarning: invalid value encountered in true_divide\n",
      "  spectrum[first:len(wave_b)]=(flux_b[first:len(wave_b)]*inv_var_b[first:len(wave_b)]+flux_r[i2[first:len(wave_b)]]*inv_var_r[i2[first:len(wave_b)]])\\\n"
     ]
    },
    {
     "name": "stdout",
     "output_type": "stream",
     "text": [
      "671.4329175949097\n"
     ]
    },
    {
     "data": {
      "text/plain": [
       "[<matplotlib.lines.Line2D at 0x15547be56970>]"
      ]
     },
     "execution_count": 6,
     "metadata": {},
     "output_type": "execute_result"
    },
    {
     "data": {
      "image/png": "[encoded data removed]",
      "text/plain": [
       "<Figure size 432x288 with 1 Axes>"
      ]
     },
     "metadata": {
      "needs_background": "light"
     },
     "output_type": "display_data"
    },
    {
     "data": {
      "image/png": "[encoded data removed]",
      "text/plain": [
       "<Figure size 432x288 with 1 Axes>"
      ]
     },
     "metadata": {
      "needs_background": "light"
     },
     "output_type": "display_data"
    }
   ],
   "source": [
    "## getting spectra for n points by inverse variance weighting fluxes. Also de-redshifting wavelengths\n",
    "nw=7781\n",
    "spectra=np.zeros([n,nw])\n",
    "redshifted_waves=np.zeros([n,nw])\n",
    "tic=time.time()\n",
    "for j in range(n):\n",
    "    coadd_path=\"/project/projectdirs/desi/spectro/redux/everest/tiles/cumulative/\"+str(tile_ids[j])\n",
    "    a=listdir(coadd_path)[0]\n",
    "    coadd_path=\"/project/projectdirs/desi/spectro/redux/everest/tiles/cumulative/\"+str(tile_ids[j])+\"/\"+a\n",
    "    coadd_path=\"/project/projectdirs/desi/spectro/redux/everest/tiles/cumulative/\"+str(tile_ids[j])+\"/\"+a\\\n",
    "                +\"/coadd-\"+str(petal_locs[j])+\"-\"+str(tile_ids[j])+\"-thru\"+str(a)+\".fits\"\n",
    "\n",
    "\n",
    "    test=fits.open(coadd_path)\n",
    "    wave_b=test[\"B_WAVELENGTH\"].data\n",
    "    flux_b=test[\"B_FLUX\"].data[fiber_ids[j]%500,:]\n",
    "    inv_var_b=test[\"B_IVAR\"].data[fiber_ids[j]%500,:]\n",
    "    wave_r=test[\"R_WAVELENGTH\"].data\n",
    "    flux_r=test[\"R_FLUX\"].data[fiber_ids[j]%500,:]\n",
    "    inv_var_r=test[\"R_IVAR\"].data[fiber_ids[j]%500,:]\n",
    "    wave_z=test[\"Z_WAVELENGTH\"].data\n",
    "    flux_z=test[\"Z_FLUX\"].data[fiber_ids[j]%500,:]\n",
    "    inv_var_z=test[\"Z_IVAR\"].data[fiber_ids[j]%500,:]\n",
    "\n",
    "    first=np.where(abs(wave_b-wave_r[0])<10**-4)[0][0]\n",
    "    second=np.where(abs(wave_r-wave_z[0])<10**-4)[0][0]\n",
    "\n",
    "    nw=first+second+len(wave_z)\n",
    "\n",
    "    spectrum=np.zeros(nw)\n",
    "\n",
    "    i2=np.arange(nw)-first\n",
    "    i3=np.arange(nw)-(second+first)\n",
    "\n",
    "    wavelength=np.zeros(nw)\n",
    "    \n",
    "    wavelength[:first]=wave_b[:first]\n",
    "    wavelength[first:len(wave_b)]=(wave_b[first:len(wave_b)]+wave_r[i2[first:len(wave_b)]])/2\n",
    "    wavelength[len(wave_b):second+first]=wave_r[i2[len(wave_b):second+first]]\n",
    "    wavelength[second+first:first+len(wave_r)]=(wave_r[i2[second+first:first+len(wave_r)]]+wave_z[i3[second+first:first+len(wave_r)]])/2\n",
    "    wavelength[first+len(wave_r):]=wave_z[i3[first+len(wave_r):]]\n",
    "        \n",
    "    spectrum[:first]=flux_b[:first]  \n",
    "    spectrum[first:len(wave_b)]=(flux_b[first:len(wave_b)]*inv_var_b[first:len(wave_b)]+flux_r[i2[first:len(wave_b)]]*inv_var_r[i2[first:len(wave_b)]])\\\n",
    "                                /(inv_var_b[first:len(wave_b)]+inv_var_r[i2[first:len(wave_b)]])\n",
    "    spectrum[len(wave_b):second+first]=flux_r[i2[len(wave_b):second+first]]\n",
    "    spectrum[second+first:first+len(wave_r)]=(flux_r[i2[second+first:first+len(wave_r)]]*inv_var_r[i2[second+first:first+len(wave_r)]]+flux_z[i3[second+first:first+len(wave_r)]]*inv_var_z[i3[second+first:first+len(wave_r)]])\\\n",
    "                    /(inv_var_r[i2[second+first:first+len(wave_r)]]+inv_var_z[i3[second+first:first+len(wave_r)]])\n",
    "    spectrum[first+len(wave_r):]=flux_z[i3[first+len(wave_r):]]\n",
    "   \n",
    "    spectra[j,:]=spectrum[:]\n",
    "    redshifted_waves[j,:]=wavelength[:]/(1+zs[j])\n",
    "print(time.time()-tic)\n",
    "\n",
    "plt.figure(1)\n",
    "plt.plot(wavelength,spectra[0,:])\n",
    "plt.figure(2)\n",
    "plt.plot(wavelength,spectra[-1,:])"
   ]
  },
  {
   "cell_type": "code",
   "execution_count": 7,
   "id": "6afe6298-62a8-420c-ac00-ac7242239850",
   "metadata": {},
   "outputs": [],
   "source": [
    "np.savez_compressed(\"/global/homes/a/ashodkh/results/spectra_\"+str(run)+\".txt\",spectra)\n",
    "np.savez_compressed(\"/global/homes/a/ashodkh/results/redshifted_waves_\"+str(run)+\".txt\",redshifted_waves)"
   ]
  }
 ],
 "metadata": {
  "kernelspec": {
   "display_name": "DESI master",
   "language": "python",
   "name": "desi-master"
  },
  "language_info": {
   "codemirror_mode": {
    "name": "ipython",
    "version": 3
   },
   "file_extension": ".py",
   "mimetype": "text/x-python",
   "name": "python",
   "nbconvert_exporter": "python",
   "pygments_lexer": "ipython3",
   "version": "3.9.7"
  }
 },
 "nbformat": 4,
 "nbformat_minor": 5
}
