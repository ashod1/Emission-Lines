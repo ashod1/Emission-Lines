{
 "cells": [
  {
   "cell_type": "code",
   "execution_count": 1,
   "id": "9ad11a1b-7ab0-4c72-becd-a7e595301bba",
   "metadata": {},
   "outputs": [],
   "source": [
    "from astropy.io import fits\n",
    "from astropy.table import Table\n",
    "import numpy as np\n",
    "import pylab as plt\n",
    "import random\n",
    "from scipy import stats\n",
    "from sklearn.neighbors import KDTree\n",
    "import time\n",
    "from sklearn.metrics import mean_squared_error\n",
    "from astropy.cosmology import FlatLambdaCDM\n",
    "from os import listdir\n",
    "import desispec\n",
    "import desispec.io\n",
    "import speclite.filters\n",
    "import scipy\n",
    "from desitarget.targetmask import desi_mask, bgs_mask, mws_mask\n",
    "from desitarget.cmx.cmx_targetmask import cmx_mask"
   ]
  },
  {
   "cell_type": "code",
   "execution_count": 2,
   "id": "fc8f06f7-31a9-4783-af4e-08c833dd670b",
   "metadata": {},
   "outputs": [],
      "text/plain": [
       "<Table length=1696000>\n",
       "     TARGETID            CHI2        ... TSNR2_QSO TSNR2_LRG\n",
       "      int64            float64       ...  float32   float32 \n",
       "----------------- ------------------ ... --------- ---------\n",
       "39632936659586030  8600.397160291672 ... 4.1728506 13.609865\n",
       "39632936663777376  9021.754892468452 ...  4.406272 14.489906\n",
       "39632936663779407  8585.488008260727 ... 4.3729973 14.168348\n",
       "39632941747273991  8645.877736479044 ...  4.480794 14.505436\n",
       "39632941747275574  8758.198866376653 ... 4.6390514 14.985748\n",
       "39632941743081503  9922.271613359451 ...  4.615443 14.854567\n",
       "39632941743083810   9454.27923666127 ...  4.427709 14.375006\n",
       "39632941743083238  8538.786204516888 ... 4.4913287 14.542368\n",
       "39632936659586610  8838.626218280755 ... 4.0850015 13.559635\n",
       "39632936663777752 13631.880539406091 ... 4.1356626 13.650012\n",
       "              ...                ... ...       ...       ...\n",
       "39633044948125234 15270.740330059321 ... 5.2218685  16.31319\n",
       "39633044948125397  48018.98659732243 ...  5.364068 16.643578\n",
       "39633040187589002   8309.17920256406 ...  5.191762 16.218618\n",
       "39633040187591832  9202.315885320306 ... 5.4672894  17.17519\n",
       "39633040187589902 29830.797279000282 ...  4.785678 15.082302\n",
       "39633044952318239  8761.236883983016 ...  5.216186 16.251997\n",
       "39633040187588759  9129.036855623126 ... 5.1294575 16.010445\n",
       "39633044948127856 11123.617834870432 ...  5.063911 15.830505\n",
       "39633044948127640 14140.860008857788 ...  5.128068 16.048275\n",
       "39633044952319747   8788.33719618991 ...  4.894801 15.268568"
      ]
     },
     "execution_count": 2,
     "metadata": {},
     "output_type": "execute_result"
    }
   ],
   "source": [
    "zall_path=\"/project/projectdirs/desi/spectro/redux/everest/zcatalog/ztile-main-bright-cumulative.fits\"\n",
    "data=Table.read(zall_path,hdu=1)\n",
    "data\n",
    "#target_ids=np.loadtxt(\"/global/homes/a/ashodkh/results/target_ids.txt\",dtype=int,delimiter=',')"
   ]
  },
  {
   "cell_type": "code",
   "execution_count": 3,
   "id": "4c6f20c2-cacc-48f9-936c-69f89af48252",
   "metadata": {},
   "outputs": [
    {
     "data": {
      "text/plain": [
       "<TableColumns names=('TARGETID','CHI2','COEFF','Z','ZERR','ZWARN','NPIXELS','SPECTYPE','SUBTYPE','NCOEFF','DELTACHI2','PETAL_LOC','DEVICE_LOC','LOCATION','FIBER','COADD_FIBERSTATUS','TARGET_RA','TARGET_DEC','PMRA','PMDEC','REF_EPOCH','LAMBDA_REF','FA_TARGET','FA_TYPE','OBJTYPE','FIBERASSIGN_X','FIBERASSIGN_Y','PRIORITY','SUBPRIORITY','OBSCONDITIONS','RELEASE','BRICKID','BRICK_OBJID','MORPHTYPE','FLUX_G','FLUX_R','FLUX_Z','FLUX_IVAR_G','FLUX_IVAR_R','FLUX_IVAR_Z','MASKBITS','REF_ID','REF_CAT','GAIA_PHOT_G_MEAN_MAG','GAIA_PHOT_BP_MEAN_MAG','GAIA_PHOT_RP_MEAN_MAG','PARALLAX','BRICKNAME','EBV','FLUX_W1','FLUX_W2','FLUX_IVAR_W1','FLUX_IVAR_W2','FIBERFLUX_G','FIBERFLUX_R','FIBERFLUX_Z','FIBERTOTFLUX_G','FIBERTOTFLUX_R','FIBERTOTFLUX_Z','SERSIC','SHAPE_R','SHAPE_E1','SHAPE_E2','PHOTSYS','PRIORITY_INIT','NUMOBS_INIT','DESI_TARGET','BGS_TARGET','MWS_TARGET','SCND_TARGET','PLATE_RA','PLATE_DEC','TILEID','COADD_NUMEXP','COADD_EXPTIME','COADD_NUMNIGHT','COADD_NUMTILE','MEAN_DELTA_X','RMS_DELTA_X','MEAN_DELTA_Y','RMS_DELTA_Y','MEAN_FIBER_RA','STD_FIBER_RA','MEAN_FIBER_DEC','STD_FIBER_DEC','MEAN_PSF_TO_FIBER_SPECFLUX','MEAN_FIBER_X','MEAN_FIBER_Y','TSNR2_GPBDARK_B','TSNR2_ELG_B','TSNR2_GPBBRIGHT_B','TSNR2_LYA_B','TSNR2_BGS_B','TSNR2_GPBBACKUP_B','TSNR2_QSO_B','TSNR2_LRG_B','TSNR2_GPBDARK_R','TSNR2_ELG_R','TSNR2_GPBBRIGHT_R','TSNR2_LYA_R','TSNR2_BGS_R','TSNR2_GPBBACKUP_R','TSNR2_QSO_R','TSNR2_LRG_R','TSNR2_GPBDARK_Z','TSNR2_ELG_Z','TSNR2_GPBBRIGHT_Z','TSNR2_LYA_Z','TSNR2_BGS_Z','TSNR2_GPBBACKUP_Z','TSNR2_QSO_Z','TSNR2_LRG_Z','TSNR2_GPBDARK','TSNR2_ELG','TSNR2_GPBBRIGHT','TSNR2_LYA','TSNR2_BGS','TSNR2_GPBBACKUP','TSNR2_QSO','TSNR2_LRG')>"
      ]
     },
     "execution_count": 3,
     "metadata": {},
     "output_type": "execute_result"
    }
   ],
   "source": [
    "data.columns"
   ]
  },
  {
   "cell_type": "code",
   "execution_count": 3,
   "id": "a6e09d15-1a73-45a7-a685-c2b182485a38",
   "metadata": {},
   "outputs": [],
   "source": [
    "#len(np.where(data[\"SPECTYPE\"]=='QSO')[0])\n",
    "# target_pos=np.where((data[\"BGS_TARGET\"] & bgs_mask.mask(\"BGS_BRIGHT\")))[0]\n",
    "# target_ids=data[\"TARGETID\"][target_pos]\n",
    "# fiber_ids=data[\"FIBER\"][target_pos]\n",
    "# petal_locs=data[\"PETAL_LOC\"][target_pos]\n",
    "# tile_ids=data[\"TILEID\"][target_pos]\n",
    "\n",
    "# i=0\n",
    "# coadd_path=\"/project/projectdirs/desi/spectro/redux/everest/tiles/cumulative/\"+str(tile_ids[0])\n",
    "# a=listdir(coadd_path)[0]\n",
    "# coadd_path=\"/project/projectdirs/desi/spectro/redux/everest/tiles/cumulative/\"+str(tile_ids[0])+\"/\"+a\n",
    "# coadd_path=\"/project/projectdirs/desi/spectro/redux/everest/tiles/cumulative/\"+str(tile_ids[0])+\"/\"+a\\\n",
    "#             +\"/coadd-\"+str(petal_locs[0])+\"-\"+str(tile_ids[0])+\"-thru\"+str(a)+\".fits\"\n",
    "# data2=Table.read(coadd_path,hdu=1)\n",
    "\n",
    "N=len(data['TARGETID'])\n",
    "positions=[]\n",
    "for i in range(N):\n",
    "    k=0\n",
    "    bgs_test=0\n",
    "    if (data[\"BGS_TARGET\"][i] & bgs_mask.mask(\"BGS_BRIGHT\"))>0:\n",
    "        bgs_test+=1\n",
    "    if data[\"SPECTYPE\"][i]!=\"GALAXY\":\n",
    "        k+=1\n",
    "    if data[\"DELTACHI2\"][i]<25:\n",
    "        k+=1\n",
    "    if data[\"Z\"][i]<0:\n",
    "        k+=1\n",
    "    if data[\"ZWARN\"][i]!=0:\n",
    "        k+=1\n",
    "    if k==0 and bgs_test==1:\n",
    "        positions.append(i)\n",
    "\n"
   ]
  },
  {
   "cell_type": "code",
   "execution_count": 4,
   "id": "d22f1e9b-6e7a-45d4-963e-5ce201de64b6",
   "metadata": {},
   "outputs": [],
   "source": [
    "n=50*10**3\n",
    "target_pos=np.zeros(n,int)\n",
    "target_pos[:]=positions[0:n]\n",
    "target_ids=data[\"TARGETID\"][target_pos]\n",
    "fiber_ids=data[\"FIBER\"][target_pos]\n",
    "petal_locs=data[\"PETAL_LOC\"][target_pos]\n",
    "tile_ids=data[\"TILEID\"][target_pos]\n",
    "zs=data[\"Z\"][target_pos]\n",
    "\n",
    "np.savez_compressed(\"/global/homes/a/ashodkh/results/zs.txt\",zs)"
   ]
  },
  {
   "cell_type": "code",
   "execution_count": 5,
   "id": "6cbce824-2736-47af-bb1a-10de99a845fd",
   "metadata": {},
   "outputs": [
    {
     "name": "stderr",
     "output_type": "stream",
     "text": [
      "/tmp/ipykernel_26114/39769941.py:54: RuntimeWarning: invalid value encountered in true_divide\n",
      "  spectrum[second+first:first+len(wave_r)]=(flux_r[i2[second+first:first+len(wave_r)]]*inv_var_r[i2[second+first:first+len(wave_r)]]+flux_z[i3[second+first:first+len(wave_r)]]*inv_var_z[i3[second+first:first+len(wave_r)]])\\\n",
      "/tmp/ipykernel_26114/39769941.py:51: RuntimeWarning: invalid value encountered in true_divide\n",
      "  spectrum[first:len(wave_b)]=(flux_b[first:len(wave_b)]*inv_var_b[first:len(wave_b)]+flux_r[i2[first:len(wave_b)]]*inv_var_r[i2[first:len(wave_b)]])\\\n"
     ]
    },
    {
     "name": "stdout",
     "output_type": "stream",
     "text": [
      "1366.2208001613617\n"
     ]
    },
    {
     "data": {
      "text/plain": [
       "[<matplotlib.lines.Line2D at 0x1552ecb4df70>]"
      ]
     },
     "execution_count": 5,
     "metadata": {},
     "output_type": "execute_result"
    },
    {
     "data": {
      "image/png": "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\n",
      "text/plain": [
       "<Figure size 432x288 with 1 Axes>"
      ]
     },
     "metadata": {
      "needs_background": "light"
     },
     "output_type": "display_data"
    },
    {
     "data": {
      "image/png": "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\n",
      "text/plain": [
       "<Figure size 432x288 with 1 Axes>"
      ]
     },
     "metadata": {
      "needs_background": "light"
     },
     "output_type": "display_data"
    }
   ],
   "source": [
    "\n",
    "nw=7781\n",
    "spectra=np.zeros([n,nw])\n",
    "redshifted_waves=np.zeros([n,nw])\n",
    "tic=time.time()\n",
    "for j in range(n):\n",
    "    coadd_path=\"/project/projectdirs/desi/spectro/redux/everest/tiles/cumulative/\"+str(tile_ids[j])\n",
    "    a=listdir(coadd_path)[0]\n",
    "    coadd_path=\"/project/projectdirs/desi/spectro/redux/everest/tiles/cumulative/\"+str(tile_ids[j])+\"/\"+a\n",
    "    coadd_path=\"/project/projectdirs/desi/spectro/redux/everest/tiles/cumulative/\"+str(tile_ids[j])+\"/\"+a\\\n",
    "                +\"/coadd-\"+str(petal_locs[j])+\"-\"+str(tile_ids[j])+\"-thru\"+str(a)+\".fits\"\n",
    "\n",
    "\n",
    "    test=fits.open(coadd_path)\n",
    "    wave_b=test[\"B_WAVELENGTH\"].data\n",
    "    flux_b=test[\"B_FLUX\"].data[fiber_ids[j]%500,:]\n",
    "    inv_var_b=test[\"B_IVAR\"].data[fiber_ids[j]%500,:]\n",
    "    wave_r=test[\"R_WAVELENGTH\"].data\n",
    "    flux_r=test[\"R_FLUX\"].data[fiber_ids[j]%500,:]\n",
    "    inv_var_r=test[\"R_IVAR\"].data[fiber_ids[j]%500,:]\n",
    "    wave_z=test[\"Z_WAVELENGTH\"].data\n",
    "    flux_z=test[\"Z_FLUX\"].data[fiber_ids[j]%500,:]\n",
    "    inv_var_z=test[\"Z_IVAR\"].data[fiber_ids[j]%500,:]\n",
    "\n",
    "    first=np.where(abs(wave_b-wave_r[0])<10**-4)[0][0]\n",
    "    second=np.where(abs(wave_r-wave_z[0])<10**-4)[0][0]\n",
    "\n",
    "    nw=first+second+len(wave_z)\n",
    "\n",
    "    spectrum=np.zeros(nw)\n",
    "\n",
    "    i2=np.arange(nw)-first\n",
    "    i3=np.arange(nw)-(second+first)\n",
    "\n",
    "    wavelength=np.zeros(nw)\n",
    "    \n",
    "    wavelength[:first]=wave_b[:first]\n",
    "    wavelength[first:len(wave_b)]=(wave_b[first:len(wave_b)]+wave_r[i2[first:len(wave_b)]])/2\n",
    "    wavelength[len(wave_b):second+first]=wave_r[i2[len(wave_b):second+first]]\n",
    "    wavelength[second+first:first+len(wave_r)]=(wave_r[i2[second+first:first+len(wave_r)]]+wave_z[i3[second+first:first+len(wave_r)]])/2\n",
    "    wavelength[first+len(wave_r):]=wave_z[i3[first+len(wave_r):]]\n",
    "        \n",
    "    spectrum[:first]=flux_b[:first]  \n",
    "    spectrum[first:len(wave_b)]=(flux_b[first:len(wave_b)]*inv_var_b[first:len(wave_b)]+flux_r[i2[first:len(wave_b)]]*inv_var_r[i2[first:len(wave_b)]])\\\n",
    "                                /(inv_var_b[first:len(wave_b)]+inv_var_r[i2[first:len(wave_b)]])\n",
    "    spectrum[len(wave_b):second+first]=flux_r[i2[len(wave_b):second+first]]\n",
    "    spectrum[second+first:first+len(wave_r)]=(flux_r[i2[second+first:first+len(wave_r)]]*inv_var_r[i2[second+first:first+len(wave_r)]]+flux_z[i3[second+first:first+len(wave_r)]]*inv_var_z[i3[second+first:first+len(wave_r)]])\\\n",
    "                    /(inv_var_r[i2[second+first:first+len(wave_r)]]+inv_var_z[i3[second+first:first+len(wave_r)]])\n",
    "    spectrum[first+len(wave_r):]=flux_z[i3[first+len(wave_r):]]\n",
    "\n",
    "#     for i in range(nw):\n",
    "#         if i<first:\n",
    "#             wavelength[i]=wave_b[i]\n",
    "#             spectrum[i]=flux_b[i]\n",
    "\n",
    "#         if i>=first and i<len(wave_b):\n",
    "#             wavelength[i]=(wave_b[i]+wave_r[i-first])/2\n",
    "#             spectrum[i]=(flux_b[i]*inv_var_b[i]+flux_r[i-first]*inv_var_r[i-first])/(inv_var_b[i]+inv_var_r[i-first])\n",
    "\n",
    "#         if i>=len(wave_b) and i<second+first:\n",
    "#             wavelength[i]=wave_r[i-first]\n",
    "#             spectrum[i]=flux_r[i-first]\n",
    "\n",
    "#         if i>=second+first and i<first+len(wave_r):\n",
    "#             wavelength[i]=(wave_r[i-first]+wave_z[i-(second+first)])/2\n",
    "#             spectrum[i]=(flux_r[i-first]*inv_var_r[i-first]+flux_z[i-(second+first)]*inv_var_z[i-(second+first)])/(inv_var_r[i-first]+inv_var_z[i-(second+first)])\n",
    "\n",
    "#         if i>=first+len(wave_r):\n",
    "#             wavelength[i]=wave_z[i-(first+second)]\n",
    "#             spectrum[i]=flux_z[i-(first+second)]\n",
    "    \n",
    "    spectra[j,:]=spectrum[:]\n",
    "    redshifted_waves[j,:]=wavelength[:]/(1+zs[j])\n",
    "print(time.time()-tic)\n",
    "\n",
    "plt.figure(1)\n",
    "plt.plot(wavelength,spectra[0,:])\n",
    "plt.figure(2)\n",
    "plt.plot(wavelength,spectra[-1,:])"
   ]
  },
  {
   "cell_type": "code",
   "execution_count": 6,
   "id": "93a0f7fa-aa1a-4f47-ae39-204db2425130",
   "metadata": {},
   "outputs": [
    {
     "data": {
      "text/plain": [
       "(array([1.1000e+01, 1.6000e+01, 5.0000e+00, 3.5000e+01, 7.0800e+02,\n",
       "        5.7830e+03, 1.3968e+04, 1.5710e+04, 1.0044e+04, 3.7200e+03]),\n",
       " array([3642.4450491 , 4260.5869493 , 4878.72884951, 5496.87074971,\n",
       "        6115.01264991, 6733.15455011, 7351.29645032, 7969.43835052,\n",
       "        8587.58025072, 9205.72215093, 9823.86405113]),\n",
       " <BarContainer object of 10 artists>)"
      ]
     },
     "execution_count": 6,
     "metadata": {},
     "output_type": "execute_result"
    },
    {
     "data": {
      "image/png": "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\n",
      "text/plain": [
       "<Figure size 432x288 with 1 Axes>"
      ]
     },
     "metadata": {
      "needs_background": "light"
     },
     "output_type": "display_data"
    }
   ],
   "source": [
    "z_min=np.zeros(n)\n",
    "z_max=np.zeros(n)\n",
    "\n",
    "for i in range(n):\n",
    "    z_min[i]=min(redshifted_waves[i,:])\n",
    "    z_max[i]=max(redshifted_waves[i,:])\n",
    "    \n",
    "plt.figure(1)\n",
    "plt.hist(z_min)\n",
    "plt.hist(z_max)"
   ]
  },
  {
   "cell_type": "code",
   "execution_count": 7,
   "id": "6afe6298-62a8-420c-ac00-ac7242239850",
   "metadata": {},
   "outputs": [],
   "source": [
    "# with open(\"/global/homes/a/ashodkh/results/spectra.txt\",'w') as f:    \n",
    "#     for i in range(n):\n",
    "#         for j in range(nw-1):\n",
    "#             f.write(str(np.round(spectra[i,j],decimals=4))+\",\")\n",
    "#         f.write(str(np.round(spectra[i,-1],decimals=4))+\"\\n\")\n",
    "        \n",
    "# with open(\"/global/homes/a/ashodkh/results/redshifted_waves.txt\",'w') as f:    \n",
    "#     for i in range(n):\n",
    "#         for j in range(nw-1):\n",
    "#             f.write(str(np.round(redshifted_waves[i,j],decimals=4))+\",\")\n",
    "#         f.write(str(np.round(redshifted_waves[i,-1],decimals=4))+\"\\n\")   \n",
    "np.savez_compressed(\"/global/homes/a/ashodkh/results/spectra.txt\",spectra)\n",
    "np.savez_compressed(\"/global/homes/a/ashodkh/results/redshifted_waves.txt\",redshifted_waves)"
   ]
  },
  {
   "cell_type": "code",
   "execution_count": null,
   "id": "adb246c8-ca20-4f60-a879-2a21c0d8ece1",
   "metadata": {},
   "outputs": [],
   "source": []
  },
  {
   "cell_type": "code",
   "execution_count": null,
   "id": "b9d310e3-607d-44d8-8af3-b8a38b7c699b",
   "metadata": {},
   "outputs": [],
   "source": []
  }
 ],
 "metadata": {
  "kernelspec": {
   "display_name": "DESI master",
   "language": "python",
   "name": "desi-master"
  },
  "language_info": {
   "codemirror_mode": {
    "name": "ipython",
    "version": 3
   },
   "file_extension": ".py",
   "mimetype": "text/x-python",
   "name": "python",
   "nbconvert_exporter": "python",
   "pygments_lexer": "ipython3",
   "version": "3.9.7"
  }
 },
 "nbformat": 4,
 "nbformat_minor": 5
}
