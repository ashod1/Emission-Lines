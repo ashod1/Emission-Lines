{
 "cells": [
  {
   "cell_type": "code",
   "execution_count": 1,
   "id": "8a4c89fe-c593-48e6-af2e-0e8953f67259",
   "metadata": {},
   "outputs": [],
   "source": [
    "from astropy.io import fits\n",
    "from astropy.table import Table\n",
    "import numpy as np\n",
    "import pylab as plt\n",
    "import random\n",
    "from scipy import stats\n",
    "from sklearn.neighbors import KDTree\n",
    "import time\n",
    "from sklearn.metrics import mean_squared_error\n",
    "from astropy.cosmology import FlatLambdaCDM\n",
    "from os import listdir\n",
    "import desispec\n",
    "import desispec.io\n",
    "import speclite.filters\n",
    "import scipy\n",
    "from desitarget.targetmask import desi_mask, bgs_mask, mws_mask\n",
    "from desitarget.cmx.cmx_targetmask import cmx_mask"
   ]
  },
  {
   "cell_type": "code",
   "execution_count": 2,
   "id": "a2da7299-7646-4452-bb77-1b4a0f58ddda",
   "metadata": {},
   "outputs": [],
   "source": [
    "n=50*10**3\n",
    "nw=7781\n",
    "\n",
    "spectra_load=np.load(\"/global/homes/a/ashodkh/results/spectra.txt.npz\")\n",
    "spectra=spectra_load[\"arr_0\"]\n",
    "waves_load=np.load(\"/global/homes/a/ashodkh/results/redshifted_waves.txt.npz\")\n",
    "redshifted_waves=waves_load[\"arr_0\"]\n",
    "zs_load=np.load(\"/global/homes/a/ashodkh/results/zs.txt.npz\")\n",
    "zs=zs_load[\"arr_0\"]\n",
    "\n",
    "\n",
    "# spectra=np.zeros([n,nw])\n",
    "# redshifted_waves=np.zeros([n,nw])\n",
    "\n",
    "# with open(\"/global/homes/a/ashodkh/results/spectra.txt\",'r') as f:\n",
    "#     spectra_str=f.readlines()\n",
    "# with open(\"/global/homes/a/ashodkh/results/redshifted_waves.txt\",'r') as f:\n",
    "#     redshifted_waves_str=f.readlines()\n",
    "    \n",
    "# for i in range(n):\n",
    "#     spectra[i,:]=np.array(spectra_str[i].split(\",\"),dtype=float)\n",
    "#     redshifted_waves[i,:]=np.array(redshifted_waves_str[i].split(\",\"),dtype=float)"
   ]
  },
  {
   "cell_type": "code",
   "execution_count": 3,
   "id": "97c15c8d-9c1d-41ba-9978-ae70dbb82444",
   "metadata": {},
   "outputs": [
    {
     "data": {
      "text/plain": [
       "(array([8.000e+00, 1.000e+00, 0.000e+00, 0.000e+00, 2.000e+00, 2.000e+00,\n",
       "        3.000e+00, 0.000e+00, 1.000e+00, 1.000e+01, 1.000e+00, 2.000e+00,\n",
       "        0.000e+00, 1.000e+00, 1.000e+00, 1.000e+00, 0.000e+00, 4.000e+00,\n",
       "        1.300e+01, 1.700e+01, 3.000e+01, 5.700e+01, 1.060e+02, 1.840e+02,\n",
       "        3.310e+02, 6.080e+02, 1.024e+03, 1.225e+03, 1.229e+03, 1.697e+03,\n",
       "        1.837e+03, 2.230e+03, 2.913e+03, 3.277e+03, 3.711e+03, 3.227e+03,\n",
       "        3.038e+03, 3.414e+03, 3.429e+03, 2.602e+03, 2.927e+03, 2.105e+03,\n",
       "        2.001e+03, 1.496e+03, 1.515e+03, 1.640e+03, 6.390e+02, 8.070e+02,\n",
       "        4.670e+02, 1.670e+02]),\n",
       " array([3642.4450491 , 3766.07342914, 3889.70180918, 4013.33018922,\n",
       "        4136.95856926, 4260.5869493 , 4384.21532934, 4507.84370939,\n",
       "        4631.47208943, 4755.10046947, 4878.72884951, 5002.35722955,\n",
       "        5125.98560959, 5249.61398963, 5373.24236967, 5496.87074971,\n",
       "        5620.49912975, 5744.12750979, 5867.75588983, 5991.38426987,\n",
       "        6115.01264991, 6238.64102995, 6362.26940999, 6485.89779003,\n",
       "        6609.52617007, 6733.15455011, 6856.78293016, 6980.4113102 ,\n",
       "        7104.03969024, 7227.66807028, 7351.29645032, 7474.92483036,\n",
       "        7598.5532104 , 7722.18159044, 7845.80997048, 7969.43835052,\n",
       "        8093.06673056, 8216.6951106 , 8340.32349064, 8463.95187068,\n",
       "        8587.58025072, 8711.20863076, 8834.8370108 , 8958.46539084,\n",
       "        9082.09377089, 9205.72215093, 9329.35053097, 9452.97891101,\n",
       "        9576.60729105, 9700.23567109, 9823.86405113]),\n",
       " <BarContainer object of 50 artists>)"
      ]
     },
     "execution_count": 3,
     "metadata": {},
     "output_type": "execute_result"
    },
    {
     "data": {
      "image/png": "[encoded data removed]",
      "text/plain": [
       "<Figure size 432x288 with 1 Axes>"
      ]
     },
     "metadata": {
      "needs_background": "light"
     },
     "output_type": "display_data"
    },
    {
     "data": {
      "image/png": "[encoded data removed]",
      "text/plain": [
       "<Figure size 432x288 with 1 Axes>"
      ]
     },
     "metadata": {
      "needs_background": "light"
     },
     "output_type": "display_data"
    }
   ],
   "source": [
    "wave_min=np.amin(redshifted_waves,axis=1)\n",
    "wave_max=np.amax(redshifted_waves,axis=1)\n",
    "\n",
    "plt.figure(1)\n",
    "plt.hist(wave_min,bins=50)\n",
    "plt.figure(2)\n",
    "plt.hist(wave_max,bins=50)"
   ]
  },
  {
   "cell_type": "code",
   "execution_count": 4,
   "id": "f6e3c093-e781-45ff-8942-d62eff10f522",
   "metadata": {},
   "outputs": [
    {
     "name": "stdout",
     "output_type": "stream",
     "text": [
      "5144\n"
     ]
    }
   ],
   "source": [
    "w1=3400\n",
    "w2=7000\n",
    "\n",
    "select1=wave_min<w1\n",
    "select2=wave_max>w2\n",
    "select=select1*select2\n",
    "print(len(np.where(select1!=select2)[0]))"
   ]
  },
  {
   "cell_type": "code",
   "execution_count": 5,
   "id": "924c6b2c-2454-42d2-bcfa-8d0373d82837",
   "metadata": {},
   "outputs": [
    {
     "name": "stdout",
     "output_type": "stream",
     "text": [
      "(array([], dtype=int64),)\n"
     ]
    }
   ],
   "source": [
    "wavelength=redshifted_waves[0,:]*(1+zs[0])\n",
    "print(np.where(wavelength==w1))"
   ]
  },
  {
   "cell_type": "code",
   "execution_count": 6,
   "id": "d3d1beca-acbd-432b-997b-68c786c525a4",
   "metadata": {},
   "outputs": [
    {
     "data": {
      "text/plain": [
       "[<matplotlib.lines.Line2D at 0x15534af17c40>]"
      ]
     },
     "execution_count": 6,
     "metadata": {},
     "output_type": "execute_result"
    },
    {
     "data": {
      "image/png": "[encoded data removed]",
      "text/plain": [
       "<Figure size 432x288 with 1 Axes>"
      ]
     },
     "metadata": {
      "needs_background": "light"
     },
     "output_type": "display_data"
    }
   ],
   "source": [
    "plt.figure(1)\n",
    "plt.plot(redshifted_waves[0,:],spectra[0,:])\n",
    "plt.axvline(x=w1,color='r')\n",
    "plt.axvline(x=w2,color='r')\n",
    "\n",
    "d=np.average(redshifted_waves[:,1]-redshifted_waves[:,0])\n",
    "big_bin=np.arange(w1,w2,d)\n",
    "\n",
    "spectrum_test=np.interp(big_bin,redshifted_waves[0,:],spectra[0,:])\n",
    "plt.figure(1)\n",
    "plt.plot(big_bin,spectrum_test+20)\n",
    "\n"
   ]
  },
  {
   "cell_type": "code",
   "execution_count": 7,
   "id": "aabd872f-e9e3-4d3a-bf2b-b1be1cbbf61f",
   "metadata": {},
   "outputs": [],
   "source": [
    "n_s=len(np.where(select==True)[0])\n",
    "\n",
    "spectra_s=spectra[select,:]\n",
    "redshifted_waves_s=redshifted_waves[select,:]"
   ]
  },
  {
   "cell_type": "code",
   "execution_count": 8,
   "id": "13ea6658-a75a-404d-87fb-f46ddddb8199",
   "metadata": {},
   "outputs": [],
   "source": [
    "spectra_bin=np.zeros([n_s,len(big_bin)])\n",
    "\n",
    "for i in range(n_s):\n",
    "    spectra_bin[i,:]=np.interp(big_bin,redshifted_waves_s[i,:],spectra_s[i,:])"
   ]
  },
  {
   "cell_type": "code",
   "execution_count": 9,
   "id": "407e5b90-4ae0-4285-8214-0f1255a7fa70",
   "metadata": {},
   "outputs": [
    {
     "data": {
      "text/plain": [
       "[<matplotlib.lines.Line2D at 0x15518a03a730>]"
      ]
     },
     "execution_count": 9,
     "metadata": {},
     "output_type": "execute_result"
    },
    {
     "data": {
      "image/png": "[encoded data removed]",
      "text/plain": [
       "<Figure size 432x288 with 1 Axes>"
      ]
     },
     "metadata": {
      "needs_background": "light"
     },
     "output_type": "display_data"
    }
   ],
   "source": [
    "plt.plot(big_bin,spectra_bin[0,:])"
   ]
  },
  {
   "cell_type": "code",
   "execution_count": 10,
   "id": "1280fd61-f062-4343-aab5-81a74cd73f11",
   "metadata": {},
   "outputs": [],
   "source": [
    "np.savez_compressed(\"/global/homes/a/ashodkh/results/spectra_bin.txt\",spectra_bin)\n",
    "np.savez_compressed(\"/global/homes/a/ashodkh/results/big_bin.txt\",big_bin)"
   ]
  },
  {
   "cell_type": "code",
   "execution_count": null,
   "id": "4315b8ca-b7b0-4051-a72f-ac5054e2cc38",
   "metadata": {},
   "outputs": [],
   "source": []
  }
 ],
 "metadata": {
  "kernelspec": {
   "display_name": "DESI master",
   "language": "python",
   "name": "desi-master"
  },
  "language_info": {
   "codemirror_mode": {
    "name": "ipython",
    "version": 3
   },
   "file_extension": ".py",
   "mimetype": "text/x-python",
   "name": "python",
   "nbconvert_exporter": "python",
   "pygments_lexer": "ipython3",
   "version": "3.9.7"
  }
 },
 "nbformat": 4,
 "nbformat_minor": 5
}
