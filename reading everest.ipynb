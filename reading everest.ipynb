{
 "cells": [
  {
   "cell_type": "code",
   "execution_count": 1,
   "id": "8a4c89fe-c593-48e6-af2e-0e8953f67259",
   "metadata": {},
   "outputs": [],
   "source": [
    "from astropy.io import fits\n",
    "from astropy.table import Table\n",
    "import numpy as np\n",
    "import pylab as plt\n",
    "import random\n",
    "from scipy import stats\n",
    "from sklearn.neighbors import KDTree\n",
    "import time\n",
    "from sklearn.metrics import mean_squared_error\n",
    "from astropy.cosmology import FlatLambdaCDM\n",
    "from os import listdir\n",
    "import desispec\n",
    "import desispec.io\n",
    "import speclite.filters\n",
    "import scipy\n",
    "from desitarget.targetmask import desi_mask, bgs_mask, mws_mask\n",
    "from desitarget.cmx.cmx_targetmask import cmx_mask"
   ]
  },
  {
   "cell_type": "code",
   "execution_count": 2,
   "id": "a2da7299-7646-4452-bb77-1b4a0f58ddda",
   "metadata": {},
   "outputs": [],
   "source": [
    "n=50*10**3\n",
    "nw=7781\n",
    "\n",
    "spectra_load=np.load(\"/global/homes/a/ashodkh/results/spectra.txt.npz\")\n",
    "spectra=spectra_load[\"arr_0\"]\n",
    "waves_load=np.load(\"/global/homes/a/ashodkh/results/redshifted_waves.txt.npz\")\n",
    "redshifted_waves=waves_load[\"arr_0\"]\n",
    "zs_load=np.load(\"/global/homes/a/ashodkh/results/zs.txt.npz\")\n",
    "zs=zs_load[\"arr_0\"]\n",
    "\n",
    "\n",
    "# spectra=np.zeros([n,nw])\n",
    "# redshifted_waves=np.zeros([n,nw])\n",
    "\n",
    "# with open(\"/global/homes/a/ashodkh/results/spectra.txt\",'r') as f:\n",
    "#     spectra_str=f.readlines()\n",
    "# with open(\"/global/homes/a/ashodkh/results/redshifted_waves.txt\",'r') as f:\n",
    "#     redshifted_waves_str=f.readlines()\n",
    "    \n",
    "# for i in range(n):\n",
    "#     spectra[i,:]=np.array(spectra_str[i].split(\",\"),dtype=float)\n",
    "#     redshifted_waves[i,:]=np.array(redshifted_waves_str[i].split(\",\"),dtype=float)"
   ]
  },
  {
   "cell_type": "code",
   "execution_count": null,
   "id": "cd6cbe83",
   "metadata": {},
   "outputs": [],
   "source": [
    "wave_min=np.amin(redshifted_waves,axis=1)\n",
    "wave_max=np.amax(redshifted_waves,axis=1)"
   ]
  },
  {
   "cell_type": "code",
   "execution_count": 4,
   "id": "f6e3c093-e781-45ff-8942-d62eff10f522",
   "metadata": {},
   "outputs": [
    {
     "name": "stdout",
     "output_type": "stream",
     "text": [
      "5144\n"
     ]
    }
   ],
   "source": [
    "w1=3400\n",
    "w2=7000\n",
    "\n",
    "select1=wave_min<w1\n",
    "select2=wave_max>w2\n",
    "select=select1*select2\n",
    "print(len(np.where(select1!=select2)[0]))"
   ]
  },
  {
   "cell_type": "code",
   "execution_count": 5,
   "id": "924c6b2c-2454-42d2-bcfa-8d0373d82837",
   "metadata": {},
   "outputs": [
    {
     "name": "stdout",
     "output_type": "stream",
     "text": [
      "(array([], dtype=int64),)\n"
     ]
    }
   ],
   "source": [
    "wavelength=redshifted_waves[0,:]*(1+zs[0])\n",
    "print(np.where(wavelength==w1))"
   ]
  },
  {
   "cell_type": "code",
   "execution_count": null,
   "id": "78221a87",
   "metadata": {},
   "outputs": [],
   "source": [
    "plt.figure(1)\n",
    "plt.plot(redshifted_waves[0,:],spectra[0,:])\n",
    "plt.axvline(x=w1,color='r')\n",
    "plt.axvline(x=w2,color='r')\n",
    "\n",
    "d=np.average(redshifted_waves[:,1]-redshifted_waves[:,0])\n",
    "big_bin=np.arange(w1,w2,d)\n",
    "\n",
    "spectrum_test=np.interp(big_bin,redshifted_waves[0,:],spectra[0,:])\n",
    "plt.figure(1)\n",
    "plt.plot(big_bin,spectrum_test+20)"
   ]
  },
  {
   "cell_type": "code",
   "execution_count": 7,
   "id": "aabd872f-e9e3-4d3a-bf2b-b1be1cbbf61f",
   "metadata": {},
   "outputs": [],
   "source": [
    "n_s=len(np.where(select==True)[0])\n",
    "\n",
    "spectra_s=spectra[select,:]\n",
    "redshifted_waves_s=redshifted_waves[select,:]"
   ]
  },
  {
   "cell_type": "code",
   "execution_count": 8,
   "id": "13ea6658-a75a-404d-87fb-f46ddddb8199",
   "metadata": {},
   "outputs": [],
   "source": [
    "spectra_bin=np.zeros([n_s,len(big_bin)])\n",
    "\n",
    "for i in range(n_s):\n",
    "    spectra_bin[i,:]=np.interp(big_bin,redshifted_waves_s[i,:],spectra_s[i,:])"
   ]
  },
  {
   "cell_type": "code",
   "execution_count": 10,
   "id": "1280fd61-f062-4343-aab5-81a74cd73f11",
   "metadata": {},
   "outputs": [],
   "source": [
    "np.savez_compressed(\"/global/homes/a/ashodkh/results/spectra_bin.txt\",spectra_bin)\n",
    "np.savez_compressed(\"/global/homes/a/ashodkh/results/big_bin.txt\",big_bin)"
   ]
  },
  {
   "cell_type": "code",
   "execution_count": null,
   "id": "4315b8ca-b7b0-4051-a72f-ac5054e2cc38",
   "metadata": {},
   "outputs": [],
   "source": []
  }
 ],
 "metadata": {
  "kernelspec": {
   "display_name": "Python 3 (ipykernel)",
   "language": "python",
   "name": "python3"
  },
  "language_info": {
   "codemirror_mode": {
    "name": "ipython",
    "version": 3
   },
   "file_extension": ".py",
   "mimetype": "text/x-python",
   "name": "python",
   "nbconvert_exporter": "python",
   "pygments_lexer": "ipython3",
   "version": "3.8.8"
  }
 },
 "nbformat": 4,
 "nbformat_minor": 5
}
