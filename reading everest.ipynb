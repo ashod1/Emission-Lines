{
 "cells": [
  {
   "cell_type": "code",
   "execution_count": 1,
   "id": "8a4c89fe-c593-48e6-af2e-0e8953f67259",
   "metadata": {},
   "outputs": [],
   "source": [
    "from astropy.io import fits\n",
    "from astropy.table import Table\n",
    "import numpy as np\n",
    "import pylab as plt\n",
    "import random\n",
    "from scipy import stats\n",
    "from sklearn.neighbors import KDTree\n",
    "import time\n",
    "from sklearn.metrics import mean_squared_error\n",
    "from astropy.cosmology import FlatLambdaCDM\n",
    "from os import listdir\n",
    "import desispec\n",
    "import desispec.io\n",
    "import speclite.filters\n",
    "import scipy\n",
    "from desitarget.targetmask import desi_mask, bgs_mask, mws_mask\n",
    "from desitarget.cmx.cmx_targetmask import cmx_mask\n",
    "from scipy.interpolate import NearestNDInterpolator\n"
   ]
  },
  {
   "cell_type": "code",
   "execution_count": 2,
   "id": "a2da7299-7646-4452-bb77-1b4a0f58ddda",
   "metadata": {},
   "outputs": [],
   "source": [
    "## reading everest target selection\n",
    "\n",
    "n=30*10**3\n",
    "nw=7781\n",
    "run=2\n",
    "\n",
    "spectra=np.load(\"/global/homes/a/ashodkh/results/spectra_\"+str(run)+\".txt.npz\")[\"arr_0\"]\n",
    "redshifted_waves=np.load(\"/global/homes/a/ashodkh/results/redshifted_waves_\"+str(run)+\".txt.npz\")[\"arr_0\"]\n",
    "zs=np.load(\"/global/homes/a/ashodkh/results/zs_\"+str(run)+\".txt.npz\")[\"arr_0\"]\n",
    "target_ids=np.load(\"/global/homes/a/ashodkh/results/target_ids_bin_\"+str(run)+\".txt.npz\")[\"arr_0\"]\n",
    "target_lines=np.load(\"/global/homes/a/ashodkh/results/target_lines_\"+str(run)+\".txt.npz\")[\"arr_0\"]"
   ]
  },
  {
   "cell_type": "code",
   "execution_count": 3,
   "id": "d3d1beca-acbd-432b-997b-68c786c525a4",
   "metadata": {},
   "outputs": [
    {
     "name": "stdout",
     "output_type": "stream",
     "text": [
      "588\n",
      "588\n",
      "588\n",
      "588\n",
      "588\n",
      "588\n",
      "588\n",
      "588\n",
      "588\n"
     ]
    },
    {
     "data": {
      "text/plain": [
       "(6400.0, 6600.0)"
      ]
     },
     "execution_count": 3,
     "metadata": {},
     "output_type": "execute_result"
    },
    {
     "data": {
      "image/png": "[encoded data removed]",
      "text/plain": [
       "<Figure size 432x288 with 1 Axes>"
      ]
     },
     "metadata": {
      "needs_background": "light"
     },
     "output_type": "display_data"
    }
   ],
   "source": [
    "# plotting to check spectra and interpolation quality\n",
    "w1=3400\n",
    "w2=7000\n",
    "plt.figure(1)\n",
    "plt.plot(redshifted_waves[0,:],spectra[0,:])\n",
    "plt.axvline(x=w1,color='r')\n",
    "plt.axvline(x=w2,color='r')\n",
    "\n",
    "## getting average separation to use for interpolation\n",
    "d=np.average(redshifted_waves[:,1]-redshifted_waves[:,0])\n",
    "#d=0.1\n",
    "\n",
    "## setting up wavelength bins to calculate fluxes in them\n",
    "big_bin=np.arange(w1,w2,d)\n",
    "N=10\n",
    "bin_ws=np.linspace(w1,w2,N)\n",
    "small_bins=[]\n",
    "for i in range(N-1):\n",
    "    small_bins.append(np.arange(bin_ws[i],bin_ws[i+1],d))\n",
    "\n",
    "## checking nearest neighbor interpolation quality\n",
    "for i in range(N-1):\n",
    "    bin1=np.arange(bin_ws[i],bin_ws[i+1],d)\n",
    "    x=redshifted_waves[0,:]\n",
    "    tree=KDTree(x.reshape(-1,1))\n",
    "    dist, ind=tree.query(bin1.reshape(-1,1),k=1)\n",
    "    spectrum_test=spectra[0,ind]\n",
    "    #spectrum_test=np.interp(bin1,redshifted_waves[0,:],spectra[0,:])\n",
    "    print(len(bin1))\n",
    "    plt.figure(1)\n",
    "    plt.plot(bin1,spectrum_test)\n",
    "\n",
    "\n",
    "plt.figure(1)\n",
    "plt.xlim(6400,6600)"
   ]
  },
  {
   "cell_type": "code",
   "execution_count": 4,
   "id": "13ea6658-a75a-404d-87fb-f46ddddb8199",
   "metadata": {},
   "outputs": [],
   "source": [
    "## calculating fluxes in bins for all the spectra\n",
    "c=3*10**18\n",
    "\n",
    "fluxes_bin=np.zeros([n,N-1])\n",
    "for i in range(n):\n",
    "    for j in range(N-1):\n",
    "        x=redshifted_waves[i,:]\n",
    "        tree=KDTree(x.reshape(-1,1))\n",
    "        dist, ind=tree.query(small_bins[j].reshape(-1,1),k=1)\n",
    "        spectra_bin=spectra[i,ind].reshape(-1) \n",
    "        nans=np.where(np.isnan(spectra_bin[:]))[0]\n",
    "        av=np.average(spectra_bin[spectra_bin==spectra_bin])\n",
    "        spectra_bin[np.where(np.isnan(spectra_bin))[0]]=av\n",
    "        #spectra_bin=np.interp(small_bins[j],redshifted_waves_s[i,:],spectra_s[i,:])\n",
    "        fluxes_bin[i,j]=(10**23/3631)*np.trapz(10**(-17)*spectra_bin*small_bins[j]*(1+zs[i]),small_bins[j])\\\n",
    "                        /np.trapz(c/small_bins[j],small_bins[j])\n",
    "\n"
   ]
  },
  {
   "cell_type": "code",
   "execution_count": 5,
   "id": "407e5b90-4ae0-4285-8214-0f1255a7fa70",
   "metadata": {},
   "outputs": [],
   "source": [
    "np.savez_compressed(\"/global/homes/a/ashodkh/results/fluxes_bin_\"+str(run)+\".txt\",fluxes_bin)\n",
    "np.savez_compressed(\"/global/homes/a/ashodkh/results/zs_s_\"+str(run)+\".txt\",zs)\n",
    "np.savez_compressed(\"/global/homes/a/ashodkh/results/target_lines_s_\"+str(run)+\".txt\",target_lines)\n",
    "np.savez_compressed(\"/global/homes/a/ashodkh/results/target_ids_s_\"+str(run)+\".txt\",target_ids)"
   ]
  }
 ],
 "metadata": {
  "kernelspec": {
   "display_name": "DESI master",
   "language": "python",
   "name": "desi-master"
  },
  "language_info": {
   "codemirror_mode": {
    "name": "ipython",
    "version": 3
   },
   "file_extension": ".py",
   "mimetype": "text/x-python",
   "name": "python",
   "nbconvert_exporter": "python",
   "pygments_lexer": "ipython3",
   "version": "3.9.7"
  }
 },
 "nbformat": 4,
 "nbformat_minor": 5
}
